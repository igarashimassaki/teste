{
  "nbformat": 4,
  "nbformat_minor": 0,
  "metadata": {
    "colab": {
      "provenance": [],
      "authorship_tag": "ABX9TyOLcupiKQ/YJyKaZimhIKdG",
      "include_colab_link": true
    },
    "kernelspec": {
      "name": "python3",
      "display_name": "Python 3"
    },
    "language_info": {
      "name": "python"
    }
  },
  "cells": [
    {
      "cell_type": "markdown",
      "metadata": {
        "id": "view-in-github",
        "colab_type": "text"
      },
      "source": [
        "<a href=\"https://colab.research.google.com/github/igarashimassaki/teste/blob/main/Arq1.ipynb\" target=\"_parent\"><img src=\"https://colab.research.google.com/assets/colab-badge.svg\" alt=\"Open In Colab\"/></a>"
      ]
    },
    {
      "cell_type": "markdown",
      "source": [
        "#Explicação do professor\n",
        "gpkglçejfdlgksjrfklgsjdfklgjfkldj"
      ],
      "metadata": {
        "id": "hM3HNDUYT2Rc"
      }
    },
    {
      "cell_type": "code",
      "execution_count": 5,
      "metadata": {
        "id": "wHn3K9UKSpNp",
        "outputId": "b5aa5ba6-9979-4c07-deb0-9769fda63a32",
        "colab": {
          "base_uri": "https://localhost:8080/"
        }
      },
      "outputs": [
        {
          "output_type": "stream",
          "name": "stdout",
          "text": [
            "6.5\n",
            "A soma é maior que 5\n"
          ]
        }
      ],
      "source": [
        "import matplot\n",
        "x = 2\n",
        "y = 4.5\n",
        "soma = x + y\n",
        "print(soma)\n",
        "if soma > 5:\n",
        "  print(\"A soma é maior que 5\")\n",
        "else:\n",
        "  print(\"A soma é menor ou igual a 5\")"
      ]
    }
  ]
}